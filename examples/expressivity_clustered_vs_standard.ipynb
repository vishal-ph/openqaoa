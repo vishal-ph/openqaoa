{
 "cells": [
  {
   "cell_type": "markdown",
   "metadata": {},
   "source": [
    "# Expressivity Analysis: Clustered vs Standard Parameterization for QAOA\n",
    "#### The main aim of this notebook is to compare the expressivity of the circuit ansätze obtained for the two parametrizations.\n",
    "\n",
    "* This notebook uses local `vectorized` as the device to run the fidelity computations to estimate the KL-dvergence measure with respect to Haar distribution as a measure of expressivity"
   ]
  },
  {
   "cell_type": "code",
   "execution_count": 125,
   "metadata": {
    "execution": {
     "iopub.execute_input": "2022-07-20T08:39:24.332036Z",
     "iopub.status.busy": "2022-07-20T08:39:24.308231Z",
     "iopub.status.idle": "2022-07-20T08:39:24.609143Z",
     "shell.execute_reply": "2022-07-20T08:39:24.607512Z",
     "shell.execute_reply.started": "2022-07-20T08:39:24.331136Z"
    }
   },
   "outputs": [],
   "source": [
    "import numpy as np\n",
    "import matplotlib.pyplot as plt\n",
    "plt.style.use('custom')\n",
    "from openqaoa.qaoa_parameters import PauliOp, Hamiltonian, QAOACircuitParams, create_qaoa_variational_params, QAOAVariationalStandardParams\n",
    "from openqaoa.problems import Knapsack, MaximumCut, NumberPartition\n",
    "from openqaoa.backends.qaoa_backend import get_qaoa_backend\n",
    "from openqaoa.devices import create_device\n",
    "from openqaoa.qaoalib import dicke_wavefunction, dicke_basis\n",
    "\n",
    "from openqaoa.optimizers import get_optimizer\n",
    "from qiskit import QuantumCircuit\n",
    "from openqaoa.utilities import *\n",
    "from tqdm import tqdm\n",
    "from collections import Counter\n",
    "import pandas as pd"
   ]
  },
  {
   "cell_type": "markdown",
   "metadata": {},
   "source": [
    "### Problem construction\n",
    "* randomly initialize (or explicitly specify) a set of numbers to be partitioned\n",
    "* translate the list of numbers into the QUBO form and extract the cost Hamiltonian from it\n",
    "* get the exact solution of the problem by calling the `ground_state_hamiltonian` function \n",
    "* Initialize the mixer of choice to be used in the QAOA routine"
   ]
  },
  {
   "cell_type": "code",
   "execution_count": 126,
   "metadata": {
    "execution": {
     "iopub.execute_input": "2022-07-20T08:39:25.173585Z",
     "iopub.status.busy": "2022-07-20T08:39:25.171746Z",
     "iopub.status.idle": "2022-07-20T08:39:25.275026Z",
     "shell.execute_reply": "2022-07-20T08:39:25.273845Z",
     "shell.execute_reply.started": "2022-07-20T08:39:25.173545Z"
    }
   },
   "outputs": [],
   "source": [
    "nums=list(np.random.randint(0,200,9))\n",
    "cost_prob = NumberPartition(nums).get_qubo_problem()\n",
    "cost_hamil = cost_prob.hamiltonian\n",
    "n_qubits = cost_hamil.n_qubits"
   ]
  },
  {
   "cell_type": "code",
   "execution_count": 127,
   "metadata": {
    "execution": {
     "iopub.execute_input": "2022-07-20T08:39:26.516956Z",
     "iopub.status.busy": "2022-07-20T08:39:26.516548Z",
     "iopub.status.idle": "2022-07-20T08:39:26.598421Z",
     "shell.execute_reply": "2022-07-20T08:39:26.597424Z",
     "shell.execute_reply.started": "2022-07-20T08:39:26.516934Z"
    }
   },
   "outputs": [
    {
     "name": "stdout",
     "output_type": "stream",
     "text": [
      "(1.0, ['110110000', '001001111'])\n"
     ]
    }
   ],
   "source": [
    "#print the solution to the problem\n",
    "print(ground_state_hamiltonian(cost_hamil))"
   ]
  },
  {
   "cell_type": "code",
   "execution_count": 128,
   "metadata": {
    "execution": {
     "iopub.execute_input": "2022-07-20T08:39:26.718664Z",
     "iopub.status.busy": "2022-07-20T08:39:26.717799Z",
     "iopub.status.idle": "2022-07-20T08:39:26.771197Z",
     "shell.execute_reply": "2022-07-20T08:39:26.770368Z",
     "shell.execute_reply.started": "2022-07-20T08:39:26.718637Z"
    }
   },
   "outputs": [],
   "source": [
    "mixer_hamil_xy = XY_mixer_hamiltonian(n_qubits=cost_prob.asdict()['n'],qubit_connectivity='full')\n",
    "mixer_hamil_x = X_mixer_hamiltonian(n_qubits=cost_prob.asdict()['n'])"
   ]
  },
  {
   "cell_type": "markdown",
   "metadata": {},
   "source": [
    "### Construct workflow objects\n",
    "* Create the QAOACircuitParams object -> responsible for the creating the abstract QAOA circuit from cost and mixer Hamiltonians\n",
    "* Create and initialize the chosen Variational Parameters (for this notebook, we choose to compare Standard vs Clustered params)\n",
    "* Create the backend object with prepend_states and the chosen device "
   ]
  },
  {
   "cell_type": "code",
   "execution_count": 129,
   "metadata": {
    "execution": {
     "iopub.execute_input": "2022-07-20T08:39:27.854566Z",
     "iopub.status.busy": "2022-07-20T08:39:27.854212Z",
     "iopub.status.idle": "2022-07-20T08:39:27.862680Z",
     "shell.execute_reply": "2022-07-20T08:39:27.861762Z",
     "shell.execute_reply.started": "2022-07-20T08:39:27.854542Z"
    }
   },
   "outputs": [],
   "source": [
    "p=1\n",
    "circuit_params = QAOACircuitParams(cost_hamil, mixer_hamil_x, p=p)"
   ]
  },
  {
   "cell_type": "code",
   "execution_count": 130,
   "metadata": {
    "execution": {
     "iopub.execute_input": "2022-07-20T08:39:31.354004Z",
     "iopub.status.busy": "2022-07-20T08:39:31.353672Z",
     "iopub.status.idle": "2022-07-20T08:39:31.408621Z",
     "shell.execute_reply": "2022-07-20T08:39:31.407760Z",
     "shell.execute_reply.started": "2022-07-20T08:39:31.353980Z"
    }
   },
   "outputs": [
    {
     "name": "stdout",
     "output_type": "stream",
     "text": [
      "Using the sharma parametrisation\n",
      "Using the sharma parametrisation\n"
     ]
    }
   ],
   "source": [
    "max_std_dev=2\n",
    "variate_params_clustered = create_qaoa_variational_params(circuit_params,'clustered','rand',max_std_dev=max_std_dev)\n",
    "variate_params_standard = create_qaoa_variational_params(circuit_params,'standard','ramp')"
   ]
  },
  {
   "cell_type": "code",
   "execution_count": 131,
   "metadata": {
    "execution": {
     "iopub.execute_input": "2022-07-20T08:39:37.995443Z",
     "iopub.status.busy": "2022-07-20T08:39:37.995102Z",
     "iopub.status.idle": "2022-07-20T08:39:38.000483Z",
     "shell.execute_reply": "2022-07-20T08:39:37.999354Z",
     "shell.execute_reply.started": "2022-07-20T08:39:37.995416Z"
    }
   },
   "outputs": [],
   "source": [
    "# k_excitations = 4\n",
    "prepend_state = None#dicke_wavefunction(k_excitations,n_qubits = n_qubits)\n",
    "init_hadamard = True#False"
   ]
  },
  {
   "cell_type": "code",
   "execution_count": 132,
   "metadata": {
    "execution": {
     "iopub.execute_input": "2022-07-20T08:39:38.729009Z",
     "iopub.status.busy": "2022-07-20T08:39:38.728663Z",
     "iopub.status.idle": "2022-07-20T08:39:38.778343Z",
     "shell.execute_reply": "2022-07-20T08:39:38.777233Z",
     "shell.execute_reply.started": "2022-07-20T08:39:38.728983Z"
    }
   },
   "outputs": [],
   "source": [
    "device = create_device('local','vectorized')\n",
    "backend_obj = get_qaoa_backend(circuit_params,device,prepend_state=prepend_state,init_hadamard=init_hadamard)"
   ]
  },
  {
   "cell_type": "markdown",
   "metadata": {},
   "source": [
    "### Helper functions to compute Expressivity"
   ]
  },
  {
   "cell_type": "code",
   "execution_count": 133,
   "metadata": {
    "execution": {
     "iopub.execute_input": "2022-07-20T08:39:40.304390Z",
     "iopub.status.busy": "2022-07-20T08:39:40.304049Z",
     "iopub.status.idle": "2022-07-20T08:39:40.381421Z",
     "shell.execute_reply": "2022-07-20T08:39:40.369032Z",
     "shell.execute_reply.started": "2022-07-20T08:39:40.304366Z"
    }
   },
   "outputs": [],
   "source": [
    "def compute_fidelity(wf1, wf2):\n",
    "    \"\"\"\n",
    "    Given two wavefunctions wf1, wf2. Compute their fidelities\n",
    "    \"\"\"\n",
    "    overlap1 = np.dot(np.conjugate(wf1),wf2)\n",
    "    overlap2 = np.dot(np.conjugate(wf2),wf1)\n",
    "    return np.real(overlap1*overlap2)\n",
    "\n",
    "def fidelities_random_state_pairs(n_samples, variate_params, backend, seed = 4567):\n",
    "    \"\"\"\n",
    "    Estimate # n_samples fidelity computations between randomly generated pairs of states\n",
    "    for the variational parameters specified\n",
    "    \"\"\"\n",
    "    np.random.seed(seed)\n",
    "    fidelities = []\n",
    "    for i in tqdm(range(n_samples)):\n",
    "        random_params1 = np.random.uniform(0,2*np.pi,len(variate_params))\n",
    "        random_params2 = np.random.uniform(0,2*np.pi,len(variate_params))\n",
    "        \n",
    "        variate_params.update_from_raw(random_params1)\n",
    "        random_wf1 = backend.wavefunction(variate_params)\n",
    "        \n",
    "        variate_params.update_from_raw(random_params2)\n",
    "        random_wf2 = backend.wavefunction(variate_params)\n",
    "\n",
    "        fidelities.append(compute_fidelity(random_wf1,random_wf2))\n",
    "    \n",
    "    return fidelities"
   ]
  },
  {
   "cell_type": "code",
   "execution_count": 134,
   "metadata": {
    "execution": {
     "iopub.execute_input": "2022-07-20T08:39:41.550494Z",
     "iopub.status.busy": "2022-07-20T08:39:41.549827Z",
     "iopub.status.idle": "2022-07-20T08:39:41.560982Z",
     "shell.execute_reply": "2022-07-20T08:39:41.560244Z",
     "shell.execute_reply.started": "2022-07-20T08:39:41.550288Z"
    }
   },
   "outputs": [],
   "source": [
    "def haar_uniform_pdf(n_qubits, fid_vector):\n",
    "    \"\"\"\n",
    "    Probability distribution function for Fidelity between two \n",
    "    Haar random states generated for n_qubits qubits.\n",
    "    \"\"\"\n",
    "    N = 2**n_qubits #dimension of Hilbert Space\n",
    "    pdf = [(N-1)*(1-f)**(N-2) for f in fid_vector]\n",
    "    return pdf"
   ]
  },
  {
   "cell_type": "code",
   "execution_count": 136,
   "metadata": {
    "execution": {
     "iopub.execute_input": "2022-07-20T08:39:46.764427Z",
     "iopub.status.busy": "2022-07-20T08:39:46.764021Z",
     "iopub.status.idle": "2022-07-20T08:39:46.768988Z",
     "shell.execute_reply": "2022-07-20T08:39:46.768027Z",
     "shell.execute_reply.started": "2022-07-20T08:39:46.764401Z"
    }
   },
   "outputs": [],
   "source": [
    "n_samples=5000"
   ]
  },
  {
   "cell_type": "code",
   "execution_count": 137,
   "metadata": {
    "execution": {
     "iopub.execute_input": "2022-07-20T08:39:48.160028Z",
     "iopub.status.busy": "2022-07-20T08:39:48.159705Z",
     "iopub.status.idle": "2022-07-20T08:39:48.190105Z",
     "shell.execute_reply": "2022-07-20T08:39:48.189400Z",
     "shell.execute_reply.started": "2022-07-20T08:39:48.160005Z"
    }
   },
   "outputs": [],
   "source": [
    "fidelity_axis = np.linspace(0,1,n_samples)\n",
    "haar_pdf = haar_uniform_pdf(9, fidelity_axis)\n",
    "haar_pdf /= np.linalg.norm(haar_pdf)"
   ]
  },
  {
   "cell_type": "code",
   "execution_count": 138,
   "metadata": {
    "execution": {
     "iopub.execute_input": "2022-07-20T08:39:52.436916Z",
     "iopub.status.busy": "2022-07-20T08:39:52.436585Z",
     "iopub.status.idle": "2022-07-20T08:40:22.808784Z",
     "shell.execute_reply": "2022-07-20T08:40:22.807853Z",
     "shell.execute_reply.started": "2022-07-20T08:39:52.436893Z"
    }
   },
   "outputs": [
    {
     "name": "stderr",
     "output_type": "stream",
     "text": [
      "100%|███████████████████████████████████████████████████████████████████████████████████████| 5000/5000 [00:30<00:00, 165.01it/s]\n"
     ]
    }
   ],
   "source": [
    "fid_std = fidelities_random_state_pairs(n_samples, variate_params_standard, backend_obj)"
   ]
  },
  {
   "cell_type": "code",
   "execution_count": 139,
   "metadata": {
    "execution": {
     "iopub.execute_input": "2022-07-20T08:40:27.949494Z",
     "iopub.status.busy": "2022-07-20T08:40:27.949159Z",
     "iopub.status.idle": "2022-07-20T08:45:25.059110Z",
     "shell.execute_reply": "2022-07-20T08:45:25.058439Z",
     "shell.execute_reply.started": "2022-07-20T08:40:27.949470Z"
    }
   },
   "outputs": [
    {
     "name": "stderr",
     "output_type": "stream",
     "text": [
      "  0%|                                                                                                   | 0/5000 [00:00<?, ?it/s]/Users/vishal/opt/anaconda3/envs/openqaoa_forked_env/lib/python3.8/site-packages/numpy/core/fromnumeric.py:3474: RuntimeWarning: Mean of empty slice.\n",
      "  return _methods._mean(a, axis=axis, dtype=dtype,\n",
      "/Users/vishal/opt/anaconda3/envs/openqaoa_forked_env/lib/python3.8/site-packages/numpy/core/_methods.py:189: RuntimeWarning: invalid value encountered in double_scalars\n",
      "  ret = ret.dtype.type(ret / rcount)\n",
      "100%|████████████████████████████████████████████████████████████████████████████████████████| 5000/5000 [04:57<00:00, 16.83it/s]\n"
     ]
    }
   ],
   "source": [
    "fid_clustered = fidelities_random_state_pairs(n_samples, variate_params_clustered, backend_obj)"
   ]
  },
  {
   "cell_type": "code",
   "execution_count": 140,
   "metadata": {
    "execution": {
     "iopub.execute_input": "2022-07-20T08:45:27.060509Z",
     "iopub.status.busy": "2022-07-20T08:45:27.060167Z",
     "iopub.status.idle": "2022-07-20T08:45:27.105903Z",
     "shell.execute_reply": "2022-07-20T08:45:27.105004Z",
     "shell.execute_reply.started": "2022-07-20T08:45:27.060483Z"
    }
   },
   "outputs": [],
   "source": [
    "#bin the observed fidelities as histograms of probabilities and normalize\n",
    "fid_std_bin_locs = np.digitize(fid_std, bins=fidelity_axis)\n",
    "fid_clustered_bin_locs = np.digitize(fid_clustered, bins=fidelity_axis)\n",
    "\n",
    "fid_std_binned = np.zeros(fidelity_axis.shape)\n",
    "fid_clustered_binned = np.zeros(fidelity_axis.shape)\n",
    "for i in range(len(fidelity_axis)):\n",
    "    idx_std = fid_std_bin_locs[i]\n",
    "    idx_clustered = fid_clustered_bin_locs[i]\n",
    "    fid_std_binned[idx_std] += 1\n",
    "    fid_clustered_binned[idx_clustered] += 1\n",
    "    \n",
    "#normalize\n",
    "fid_std_binned /= np.linalg.norm(fid_std_binned)\n",
    "fid_clustered_binned /= np.linalg.norm(fid_clustered_binned)"
   ]
  },
  {
   "cell_type": "code",
   "execution_count": 148,
   "metadata": {
    "execution": {
     "iopub.execute_input": "2022-07-20T09:45:56.351639Z",
     "iopub.status.busy": "2022-07-20T09:45:56.346207Z",
     "iopub.status.idle": "2022-07-20T09:46:25.564568Z",
     "shell.execute_reply": "2022-07-20T09:46:25.563404Z",
     "shell.execute_reply.started": "2022-07-20T09:45:56.351553Z"
    }
   },
   "outputs": [
    {
     "data": {
      "image/png": "[encoded data removed]",
      "text/plain": [
       "<Figure size 1800x360 with 1 Axes>"
      ]
     },
     "metadata": {},
     "output_type": "display_data"
    }
   ],
   "source": [
    "fig = plt.figure(figsize=(25,5))\n",
    "plt.bar(fidelity_axis,fid_std_binned,width=0.0002,label='Fidelity distribution with StandardParams')\n",
    "plt.bar(fidelity_axis,fid_clustered_binned,width=0.0002,color='red',alpha=0.5,label='Fidelity distribution with ClusteredParams')\n",
    "plt.bar(fidelity_axis,haar_pdf,width=0.0002,color='green',alpha=0.3,label='Fidelity distribution for Haar random unitaries (analytical)')\n",
    "plt.xlim(left = -0.0001, right=max([max(fid_std),max(fid_clustered)]))\n",
    "plt.xlabel('Fidelities between randomly generated states')\n",
    "plt.ylabel('Probability')\n",
    "plt.legend();"
   ]
  },
  {
   "cell_type": "markdown",
   "metadata": {},
   "source": [
    "### KL-divergence w.r.t Haar Distribution\n",
    "\n",
    "Note, I am using Mutual Information as the similarity metric here instead of KL divergence. So the definition of expressivity is different here"
   ]
  },
  {
   "cell_type": "code",
   "execution_count": 143,
   "metadata": {
    "execution": {
     "iopub.execute_input": "2022-07-20T08:47:41.465871Z",
     "iopub.status.busy": "2022-07-20T08:47:41.465535Z",
     "iopub.status.idle": "2022-07-20T08:47:41.471388Z",
     "shell.execute_reply": "2022-07-20T08:47:41.470645Z",
     "shell.execute_reply.started": "2022-07-20T08:47:41.465845Z"
    }
   },
   "outputs": [],
   "source": [
    "from scipy.special import kl_div\n",
    "import sklearn"
   ]
  },
  {
   "cell_type": "code",
   "execution_count": 144,
   "metadata": {
    "execution": {
     "iopub.execute_input": "2022-07-20T08:47:44.693158Z",
     "iopub.status.busy": "2022-07-20T08:47:44.692800Z",
     "iopub.status.idle": "2022-07-20T08:47:44.723775Z",
     "shell.execute_reply": "2022-07-20T08:47:44.722956Z",
     "shell.execute_reply.started": "2022-07-20T08:47:44.693132Z"
    }
   },
   "outputs": [
    {
     "name": "stdout",
     "output_type": "stream",
     "text": [
      "Standard QAOA expressivity:0.26059472777735926 \n",
      " Clustered Params QAOA expressivity: 0.20060306607398504\n"
     ]
    },
    {
     "name": "stderr",
     "output_type": "stream",
     "text": [
      "/Users/vishal/opt/anaconda3/envs/openqaoa_forked_env/lib/python3.8/site-packages/sklearn/metrics/cluster/_supervised.py:64: UserWarning: Clustering metrics expects discrete values but received continuous values for label, and continuous values for target\n",
      "  warnings.warn(msg, UserWarning)\n",
      "/Users/vishal/opt/anaconda3/envs/openqaoa_forked_env/lib/python3.8/site-packages/sklearn/metrics/cluster/_supervised.py:64: UserWarning: Clustering metrics expects discrete values but received continuous values for label, and continuous values for target\n",
      "  warnings.warn(msg, UserWarning)\n"
     ]
    }
   ],
   "source": [
    "clustered_expressivity=sklearn.metrics.mutual_info_score(haar_pdf,fid_clustered_binned)\n",
    "std_expressivity=sklearn.metrics.mutual_info_score(haar_pdf,fid_std_binned)\n",
    "\n",
    "# clustered_expressivity = kl_div(haar_pdf,fid_clustered_binned)\n",
    "# std_expressivity = kl_div(haar_pdf,fid_std_binned)\n",
    "\n",
    "print(f\"Standard QAOA expressivity:{std_expressivity}\",'\\n',\n",
    "      f\"Clustered Params QAOA expressivity: {clustered_expressivity}\")"
   ]
  },
  {
   "cell_type": "markdown",
   "metadata": {},
   "source": [
    "## Expressivity w.r.t to different values of `max_std_dev` for ClusteredParams"
   ]
  },
  {
   "cell_type": "code",
   "execution_count": 145,
   "metadata": {
    "execution": {
     "iopub.execute_input": "2022-07-20T08:55:15.800338Z",
     "iopub.status.busy": "2022-07-20T08:55:15.790052Z",
     "iopub.status.idle": "2022-07-20T08:55:15.893882Z",
     "shell.execute_reply": "2022-07-20T08:55:15.893026Z",
     "shell.execute_reply.started": "2022-07-20T08:55:15.800267Z"
    }
   },
   "outputs": [
    {
     "name": "stdout",
     "output_type": "stream",
     "text": [
      "Using the sharma parametrisation\n",
      "Using the sharma parametrisation\n",
      "Using the sharma parametrisation\n",
      "Using the sharma parametrisation\n",
      "Using the sharma parametrisation\n",
      "Using the sharma parametrisation\n",
      "Using the sharma parametrisation\n",
      "Using the sharma parametrisation\n",
      "Using the sharma parametrisation\n",
      "Using the sharma parametrisation\n",
      "Using the sharma parametrisation\n",
      "Using the sharma parametrisation\n",
      "Using the sharma parametrisation\n",
      "Using the sharma parametrisation\n",
      "Using the sharma parametrisation\n",
      "Using the sharma parametrisation\n",
      "Using the sharma parametrisation\n",
      "Using the sharma parametrisation\n",
      "Using the sharma parametrisation\n",
      "Using the sharma parametrisation\n"
     ]
    }
   ],
   "source": [
    "max_std_dev_list=[0,2,5,10,20,50,100,200,500,1000]\n",
    "variate_params_clustered_list = [create_qaoa_variational_params(circuit_params,'clustered','rand',max_std_dev=max_std_dev) for max_std_dev in max_std_dev_list]\n",
    "variate_params_standard = create_qaoa_variational_params(circuit_params,'standard','ramp')"
   ]
  },
  {
   "cell_type": "code",
   "execution_count": 146,
   "metadata": {
    "execution": {
     "iopub.execute_input": "2022-07-20T08:55:30.084244Z",
     "iopub.status.busy": "2022-07-20T08:55:30.083800Z",
     "iopub.status.idle": "2022-07-20T08:55:30.089995Z",
     "shell.execute_reply": "2022-07-20T08:55:30.089218Z",
     "shell.execute_reply.started": "2022-07-20T08:55:30.084218Z"
    }
   },
   "outputs": [],
   "source": [
    "# k_excitations = 4\n",
    "prepend_state = None#dicke_wavefunction(k_excitations,n_qubits = n_qubits)\n",
    "init_hadamard = True#False"
   ]
  },
  {
   "cell_type": "code",
   "execution_count": 147,
   "metadata": {
    "execution": {
     "iopub.execute_input": "2022-07-20T08:55:40.078977Z",
     "iopub.status.busy": "2022-07-20T08:55:40.078634Z",
     "iopub.status.idle": "2022-07-20T08:55:40.099140Z",
     "shell.execute_reply": "2022-07-20T08:55:40.098426Z",
     "shell.execute_reply.started": "2022-07-20T08:55:40.078951Z"
    }
   },
   "outputs": [],
   "source": [
    "device = create_device('local','vectorized')\n",
    "backend_obj = get_qaoa_backend(circuit_params,device,prepend_state=prepend_state,init_hadamard=init_hadamard)"
   ]
  },
  {
   "cell_type": "code",
   "execution_count": 81,
   "metadata": {
    "execution": {
     "iopub.execute_input": "2022-07-19T06:49:06.686719Z",
     "iopub.status.busy": "2022-07-19T06:49:06.686299Z",
     "iopub.status.idle": "2022-07-19T06:56:39.319551Z",
     "shell.execute_reply": "2022-07-19T06:56:39.317731Z",
     "shell.execute_reply.started": "2022-07-19T06:49:06.686691Z"
    }
   },
   "outputs": [
    {
     "name": "stderr",
     "output_type": "stream",
     "text": [
      "  0%|                                                                                  | 0/1000 [00:00<?, ?it/s]/Users/vishal/opt/anaconda3/envs/openqaoa_forked_env/lib/python3.8/site-packages/numpy/core/fromnumeric.py:3474: RuntimeWarning: Mean of empty slice.\n",
      "  return _methods._mean(a, axis=axis, dtype=dtype,\n",
      "/Users/vishal/opt/anaconda3/envs/openqaoa_forked_env/lib/python3.8/site-packages/numpy/core/_methods.py:189: RuntimeWarning: invalid value encountered in double_scalars\n",
      "  ret = ret.dtype.type(ret / rcount)\n",
      "100%|███████████████████████████████████████████████████████████████████████| 1000/1000 [01:02<00:00, 16.07it/s]\n",
      "100%|███████████████████████████████████████████████████████████████████████| 1000/1000 [00:46<00:00, 21.64it/s]\n",
      "100%|███████████████████████████████████████████████████████████████████████| 1000/1000 [00:45<00:00, 22.12it/s]\n",
      "100%|███████████████████████████████████████████████████████████████████████| 1000/1000 [00:46<00:00, 21.34it/s]\n",
      "100%|███████████████████████████████████████████████████████████████████████| 1000/1000 [00:45<00:00, 21.82it/s]\n",
      "100%|███████████████████████████████████████████████████████████████████████| 1000/1000 [00:43<00:00, 23.22it/s]\n",
      "100%|███████████████████████████████████████████████████████████████████████| 1000/1000 [00:45<00:00, 21.78it/s]\n",
      "100%|███████████████████████████████████████████████████████████████████████| 1000/1000 [00:44<00:00, 22.45it/s]\n",
      "100%|███████████████████████████████████████████████████████████████████████| 1000/1000 [00:38<00:00, 26.14it/s]\n",
      "100%|███████████████████████████████████████████████████████████████████████| 1000/1000 [00:34<00:00, 29.01it/s]\n"
     ]
    }
   ],
   "source": [
    "fid_clustered_list = [fidelities_random_state_pairs(n_samples, variate_params_clustered, backend_obj) for variate_params_clustered in variate_params_clustered_list]"
   ]
  },
  {
   "cell_type": "code",
   "execution_count": 86,
   "metadata": {
    "execution": {
     "iopub.execute_input": "2022-07-19T07:02:12.050804Z",
     "iopub.status.busy": "2022-07-19T07:02:12.050428Z",
     "iopub.status.idle": "2022-07-19T07:02:12.064946Z",
     "shell.execute_reply": "2022-07-19T07:02:12.064369Z",
     "shell.execute_reply.started": "2022-07-19T07:02:12.050784Z"
    }
   },
   "outputs": [],
   "source": [
    "fid_clustered_binned_list=[]\n",
    "for fid_clustered in fid_clustered_list:\n",
    "    fid_clustered_bin_locs = np.digitize(fid_clustered, bins=fidelity_axis)\n",
    "    fid_clustered_binned = np.zeros(fidelity_axis.shape)\n",
    "    for i in range(len(fidelity_axis)):\n",
    "        idx_clustered = fid_clustered_bin_locs[i]\n",
    "        fid_clustered_binned[idx_clustered] += 1\n",
    "\n",
    "    #normalize\n",
    "    fid_clustered_binned /= np.linalg.norm(fid_clustered_binned)\n",
    "    fid_clustered_binned_list.append(fid_clustered_binned)"
   ]
  },
  {
   "cell_type": "code",
   "execution_count": 87,
   "metadata": {
    "execution": {
     "iopub.execute_input": "2022-07-19T07:02:13.497268Z",
     "iopub.status.busy": "2022-07-19T07:02:13.496851Z",
     "iopub.status.idle": "2022-07-19T07:02:13.702931Z",
     "shell.execute_reply": "2022-07-19T07:02:13.702310Z",
     "shell.execute_reply.started": "2022-07-19T07:02:13.497242Z"
    }
   },
   "outputs": [
    {
     "name": "stderr",
     "output_type": "stream",
     "text": [
      "/Users/vishal/opt/anaconda3/envs/openqaoa_forked_env/lib/python3.8/site-packages/sklearn/metrics/cluster/_supervised.py:64: UserWarning: Clustering metrics expects discrete values but received continuous values for label, and continuous values for target\n",
      "  warnings.warn(msg, UserWarning)\n",
      "/Users/vishal/opt/anaconda3/envs/openqaoa_forked_env/lib/python3.8/site-packages/sklearn/metrics/cluster/_supervised.py:64: UserWarning: Clustering metrics expects discrete values but received continuous values for label, and continuous values for target\n",
      "  warnings.warn(msg, UserWarning)\n",
      "/Users/vishal/opt/anaconda3/envs/openqaoa_forked_env/lib/python3.8/site-packages/sklearn/metrics/cluster/_supervised.py:64: UserWarning: Clustering metrics expects discrete values but received continuous values for label, and continuous values for target\n",
      "  warnings.warn(msg, UserWarning)\n",
      "/Users/vishal/opt/anaconda3/envs/openqaoa_forked_env/lib/python3.8/site-packages/sklearn/metrics/cluster/_supervised.py:64: UserWarning: Clustering metrics expects discrete values but received continuous values for label, and continuous values for target\n",
      "  warnings.warn(msg, UserWarning)\n",
      "/Users/vishal/opt/anaconda3/envs/openqaoa_forked_env/lib/python3.8/site-packages/sklearn/metrics/cluster/_supervised.py:64: UserWarning: Clustering metrics expects discrete values but received continuous values for label, and continuous values for target\n",
      "  warnings.warn(msg, UserWarning)\n",
      "/Users/vishal/opt/anaconda3/envs/openqaoa_forked_env/lib/python3.8/site-packages/sklearn/metrics/cluster/_supervised.py:64: UserWarning: Clustering metrics expects discrete values but received continuous values for label, and continuous values for target\n",
      "  warnings.warn(msg, UserWarning)\n",
      "/Users/vishal/opt/anaconda3/envs/openqaoa_forked_env/lib/python3.8/site-packages/sklearn/metrics/cluster/_supervised.py:64: UserWarning: Clustering metrics expects discrete values but received continuous values for label, and continuous values for target\n",
      "  warnings.warn(msg, UserWarning)\n",
      "/Users/vishal/opt/anaconda3/envs/openqaoa_forked_env/lib/python3.8/site-packages/sklearn/metrics/cluster/_supervised.py:64: UserWarning: Clustering metrics expects discrete values but received continuous values for label, and continuous values for target\n",
      "  warnings.warn(msg, UserWarning)\n",
      "/Users/vishal/opt/anaconda3/envs/openqaoa_forked_env/lib/python3.8/site-packages/sklearn/metrics/cluster/_supervised.py:64: UserWarning: Clustering metrics expects discrete values but received continuous values for label, and continuous values for target\n",
      "  warnings.warn(msg, UserWarning)\n",
      "/Users/vishal/opt/anaconda3/envs/openqaoa_forked_env/lib/python3.8/site-packages/sklearn/metrics/cluster/_supervised.py:64: UserWarning: Clustering metrics expects discrete values but received continuous values for label, and continuous values for target\n",
      "  warnings.warn(msg, UserWarning)\n",
      "/Users/vishal/opt/anaconda3/envs/openqaoa_forked_env/lib/python3.8/site-packages/sklearn/metrics/cluster/_supervised.py:64: UserWarning: Clustering metrics expects discrete values but received continuous values for label, and continuous values for target\n",
      "  warnings.warn(msg, UserWarning)\n"
     ]
    },
    {
     "data": {
      "text/plain": [
       "Text(0, 0.5, 'Expressivity (Lower is better)')"
      ]
     },
     "execution_count": 87,
     "metadata": {},
     "output_type": "execute_result"
    },
    {
     "data": {
      "image/png": "[encoded data removed]",
      "text/plain": [
       "<Figure size 864x576 with 1 Axes>"
      ]
     },
     "metadata": {},
     "output_type": "display_data"
    }
   ],
   "source": [
    "clustered_expressivity_list=[sklearn.metrics.mutual_info_score(haar_pdf,fid_clustered_binned) for fid_clustered_binned in fid_clustered_binned_list]\n",
    "std_expressivity=sklearn.metrics.mutual_info_score(haar_pdf,fid_std_binned)\n",
    "\n",
    "# clustered_expressivity = kl_div(haar_pdf,fid_clustered_binned)\n",
    "# std_expressivity = kl_div(haar_pdf,fid_std_binned)\n",
    "\n",
    "plt.plot(max_std_dev_list,clustered_expressivity_list,lw=1.5,marker='o',label=\"Expressivity of circuits generated using ClusteredParams with different max_std_dev\")\n",
    "plt.axhline(std_expressivity)\n",
    "plt.legend();\n",
    "plt.xlabel('Standard Deviation Threshold')\n",
    "plt.ylabel('Expressivity (Lower is better)');"
   ]
  },
  {
   "cell_type": "markdown",
   "metadata": {},
   "source": [
    "### Fairer Expressivity comparison with same number of $\\gamma$ parameters between Std and Clustered"
   ]
  },
  {
   "cell_type": "code",
   "execution_count": 110,
   "metadata": {
    "execution": {
     "iopub.execute_input": "2022-07-19T07:30:24.212344Z",
     "iopub.status.busy": "2022-07-19T07:30:24.211999Z",
     "iopub.status.idle": "2022-07-19T07:30:24.215975Z",
     "shell.execute_reply": "2022-07-19T07:30:24.215267Z",
     "shell.execute_reply.started": "2022-07-19T07:30:24.212314Z"
    }
   },
   "outputs": [],
   "source": [
    "p19=19\n",
    "p1=1\n",
    "circuit_params_p19 = QAOACircuitParams(cost_hamil, mixer_hamil_x, p=p19)\n",
    "circuit_params_p1 = QAOACircuitParams(cost_hamil, mixer_hamil_x, p=p1)"
   ]
  },
  {
   "cell_type": "code",
   "execution_count": 111,
   "metadata": {
    "execution": {
     "iopub.execute_input": "2022-07-19T07:30:24.400225Z",
     "iopub.status.busy": "2022-07-19T07:30:24.399900Z",
     "iopub.status.idle": "2022-07-19T07:30:24.411689Z",
     "shell.execute_reply": "2022-07-19T07:30:24.410817Z",
     "shell.execute_reply.started": "2022-07-19T07:30:24.400198Z"
    }
   },
   "outputs": [
    {
     "name": "stdout",
     "output_type": "stream",
     "text": [
      "Using the sharma parametrisation\n",
      "Using the sharma parametrisation\n"
     ]
    }
   ],
   "source": [
    "max_std_dev=2\n",
    "variate_params_clustered = create_qaoa_variational_params(circuit_params_p1,'clustered','ramp',max_std_dev=max_std_dev)\n",
    "variate_params_standard = create_qaoa_variational_params(circuit_params_p19,'standard','ramp')"
   ]
  },
  {
   "cell_type": "code",
   "execution_count": 123,
   "metadata": {
    "execution": {
     "iopub.execute_input": "2022-07-19T09:03:00.138054Z",
     "iopub.status.busy": "2022-07-19T09:03:00.137374Z",
     "iopub.status.idle": "2022-07-19T09:03:00.144346Z",
     "shell.execute_reply": "2022-07-19T09:03:00.143111Z",
     "shell.execute_reply.started": "2022-07-19T09:03:00.138025Z"
    }
   },
   "outputs": [
    {
     "data": {
      "text/plain": [
       "Standard Parameterisation:\n",
       "\tp: 19\n",
       "Variational Parameters:\n",
       "\tbetas: [5.83710009 0.47827608 5.41336924 0.32272462 1.02978956 0.87217559\n",
       " 0.87332952 2.26215495 6.08234161 2.62930781 0.18930319 5.41654756\n",
       " 2.73665202 3.21763301 1.61082547 2.13622471 5.68467691 5.9653455\n",
       " 3.52700528]\n",
       "\tgammas: [4.27356595 1.27580393 2.74258807 4.75142856 5.21805594 2.77433883\n",
       " 0.17031709 4.70330884 1.80346781 1.46834098 0.37698696 6.11222542\n",
       " 5.57113231 2.80970253 1.91779225 5.4658701  1.04545528 4.0706952\n",
       " 2.43227338]"
      ]
     },
     "execution_count": 123,
     "metadata": {},
     "output_type": "execute_result"
    }
   ],
   "source": [
    "variate_params_standard"
   ]
  },
  {
   "cell_type": "code",
   "execution_count": 113,
   "metadata": {
    "execution": {
     "iopub.execute_input": "2022-07-19T07:30:25.785096Z",
     "iopub.status.busy": "2022-07-19T07:30:25.784119Z",
     "iopub.status.idle": "2022-07-19T07:30:25.794705Z",
     "shell.execute_reply": "2022-07-19T07:30:25.793982Z",
     "shell.execute_reply.started": "2022-07-19T07:30:25.785067Z"
    }
   },
   "outputs": [],
   "source": [
    "# k_excitations = 4\n",
    "prepend_state = None#dicke_wavefunction(k_excitations,n_qubits = n_qubits)\n",
    "init_hadamard = True#False"
   ]
  },
  {
   "cell_type": "code",
   "execution_count": 114,
   "metadata": {
    "execution": {
     "iopub.execute_input": "2022-07-19T07:30:28.331590Z",
     "iopub.status.busy": "2022-07-19T07:30:28.331227Z",
     "iopub.status.idle": "2022-07-19T07:30:28.393792Z",
     "shell.execute_reply": "2022-07-19T07:30:28.393046Z",
     "shell.execute_reply.started": "2022-07-19T07:30:28.331560Z"
    }
   },
   "outputs": [],
   "source": [
    "device = create_device('local','vectorized')\n",
    "backend_obj = get_qaoa_backend(circuit_params,device,prepend_state=prepend_state,init_hadamard=init_hadamard)"
   ]
  },
  {
   "cell_type": "code",
   "execution_count": 115,
   "metadata": {
    "execution": {
     "iopub.execute_input": "2022-07-19T07:30:45.998523Z",
     "iopub.status.busy": "2022-07-19T07:30:45.998178Z",
     "iopub.status.idle": "2022-07-19T07:30:46.008153Z",
     "shell.execute_reply": "2022-07-19T07:30:46.007335Z",
     "shell.execute_reply.started": "2022-07-19T07:30:45.998497Z"
    }
   },
   "outputs": [],
   "source": [
    "n_samples=5000"
   ]
  },
  {
   "cell_type": "code",
   "execution_count": 116,
   "metadata": {
    "execution": {
     "iopub.execute_input": "2022-07-19T07:30:46.379548Z",
     "iopub.status.busy": "2022-07-19T07:30:46.379103Z",
     "iopub.status.idle": "2022-07-19T07:30:46.410227Z",
     "shell.execute_reply": "2022-07-19T07:30:46.409136Z",
     "shell.execute_reply.started": "2022-07-19T07:30:46.379521Z"
    }
   },
   "outputs": [],
   "source": [
    "fidelity_axis = np.linspace(0,1,n_samples)\n",
    "haar_pdf = haar_uniform_pdf(9, fidelity_axis)\n",
    "haar_pdf /= np.linalg.norm(haar_pdf)"
   ]
  },
  {
   "cell_type": "code",
   "execution_count": 117,
   "metadata": {
    "execution": {
     "iopub.execute_input": "2022-07-19T07:30:52.264804Z",
     "iopub.status.busy": "2022-07-19T07:30:52.264463Z",
     "iopub.status.idle": "2022-07-19T07:31:20.899876Z",
     "shell.execute_reply": "2022-07-19T07:31:20.899103Z",
     "shell.execute_reply.started": "2022-07-19T07:30:52.264777Z"
    }
   },
   "outputs": [
    {
     "name": "stderr",
     "output_type": "stream",
     "text": [
      "100%|██████████████████████████████████████████████████████████████████████| 5000/5000 [00:28<00:00, 174.82it/s]\n"
     ]
    }
   ],
   "source": [
    "fid_std = fidelities_random_state_pairs(n_samples, variate_params_standard, backend_obj)"
   ]
  },
  {
   "cell_type": "code",
   "execution_count": 118,
   "metadata": {
    "execution": {
     "iopub.execute_input": "2022-07-19T07:31:21.838841Z",
     "iopub.status.busy": "2022-07-19T07:31:21.838514Z",
     "iopub.status.idle": "2022-07-19T07:35:16.395334Z",
     "shell.execute_reply": "2022-07-19T07:35:16.393507Z",
     "shell.execute_reply.started": "2022-07-19T07:31:21.838815Z"
    }
   },
   "outputs": [
    {
     "name": "stderr",
     "output_type": "stream",
     "text": [
      "  0%|                                                                                  | 0/5000 [00:00<?, ?it/s]/Users/vishal/opt/anaconda3/envs/openqaoa_forked_env/lib/python3.8/site-packages/numpy/core/fromnumeric.py:3474: RuntimeWarning: Mean of empty slice.\n",
      "  return _methods._mean(a, axis=axis, dtype=dtype,\n",
      "/Users/vishal/opt/anaconda3/envs/openqaoa_forked_env/lib/python3.8/site-packages/numpy/core/_methods.py:189: RuntimeWarning: invalid value encountered in double_scalars\n",
      "  ret = ret.dtype.type(ret / rcount)\n",
      "100%|███████████████████████████████████████████████████████████████████████| 5000/5000 [03:54<00:00, 21.32it/s]\n"
     ]
    }
   ],
   "source": [
    "fid_clustered = fidelities_random_state_pairs(n_samples, variate_params_clustered, backend_obj)"
   ]
  },
  {
   "cell_type": "code",
   "execution_count": 119,
   "metadata": {
    "execution": {
     "iopub.execute_input": "2022-07-19T09:01:35.193897Z",
     "iopub.status.busy": "2022-07-19T09:01:35.187807Z",
     "iopub.status.idle": "2022-07-19T09:01:35.273444Z",
     "shell.execute_reply": "2022-07-19T09:01:35.272827Z",
     "shell.execute_reply.started": "2022-07-19T09:01:35.193824Z"
    }
   },
   "outputs": [],
   "source": [
    "#bin the observed fidelities as histograms of probabilities and normalize\n",
    "fid_std_bin_locs = np.digitize(fid_std, bins=fidelity_axis)\n",
    "fid_clustered_bin_locs = np.digitize(fid_clustered, bins=fidelity_axis)\n",
    "\n",
    "fid_std_binned = np.zeros(fidelity_axis.shape)\n",
    "fid_clustered_binned = np.zeros(fidelity_axis.shape)\n",
    "for i in range(len(fidelity_axis)):\n",
    "    idx_std = fid_std_bin_locs[i]\n",
    "    idx_clustered = fid_clustered_bin_locs[i]\n",
    "    fid_std_binned[idx_std] += 1\n",
    "    fid_clustered_binned[idx_clustered] += 1\n",
    "    \n",
    "#normalize\n",
    "fid_std_binned /= np.linalg.norm(fid_std_binned)\n",
    "fid_clustered_binned /= np.linalg.norm(fid_clustered_binned)"
   ]
  },
  {
   "cell_type": "code",
   "execution_count": 120,
   "metadata": {
    "execution": {
     "iopub.execute_input": "2022-07-19T09:01:36.752813Z",
     "iopub.status.busy": "2022-07-19T09:01:36.752443Z",
     "iopub.status.idle": "2022-07-19T09:02:07.428918Z",
     "shell.execute_reply": "2022-07-19T09:02:07.427991Z",
     "shell.execute_reply.started": "2022-07-19T09:01:36.752788Z"
    }
   },
   "outputs": [
    {
     "data": {
      "image/png": "[encoded data removed]",
      "text/plain": [
       "<Figure size 1800x360 with 1 Axes>"
      ]
     },
     "metadata": {},
     "output_type": "display_data"
    }
   ],
   "source": [
    "fig = plt.figure(figsize=(25,5))\n",
    "plt.bar(fidelity_axis,fid_std_binned,width=0.0004,label='Fidelity distribution with StandardParams')\n",
    "plt.bar(fidelity_axis,fid_clustered_binned,width=0.0004,color='red',alpha=0.5,label='Fidelity distribution with ClusteredParams')\n",
    "plt.bar(fidelity_axis,haar_pdf,width=0.0004,color='green',alpha=0.3,label='Fidelity distribution for Haar random unitaries (analytical)')\n",
    "plt.xlim(right=max([max(fid_std),max(fid_clustered)]))\n",
    "plt.xlabel('Fidelities between randomly generated states')\n",
    "plt.ylabel('Probability')\n",
    "plt.legend();"
   ]
  },
  {
   "cell_type": "markdown",
   "metadata": {},
   "source": [
    "### KL-divergence w.r.t Haar Distribution\n",
    "\n",
    "Note, I am using Mutual Information as the similarity metric here instead of KL divergence. So the definition of expressivity is different here"
   ]
  },
  {
   "cell_type": "code",
   "execution_count": 121,
   "metadata": {
    "execution": {
     "iopub.execute_input": "2022-07-19T09:02:18.496899Z",
     "iopub.status.busy": "2022-07-19T09:02:18.496568Z",
     "iopub.status.idle": "2022-07-19T09:02:18.501170Z",
     "shell.execute_reply": "2022-07-19T09:02:18.500472Z",
     "shell.execute_reply.started": "2022-07-19T09:02:18.496873Z"
    }
   },
   "outputs": [],
   "source": [
    "from scipy.special import kl_div\n",
    "import sklearn"
   ]
  },
  {
   "cell_type": "code",
   "execution_count": 122,
   "metadata": {
    "execution": {
     "iopub.execute_input": "2022-07-19T09:02:20.343299Z",
     "iopub.status.busy": "2022-07-19T09:02:20.342796Z",
     "iopub.status.idle": "2022-07-19T09:02:20.364276Z",
     "shell.execute_reply": "2022-07-19T09:02:20.363529Z",
     "shell.execute_reply.started": "2022-07-19T09:02:20.343271Z"
    }
   },
   "outputs": [
    {
     "name": "stdout",
     "output_type": "stream",
     "text": [
      "Standard QAOA expressivity:0.27149427701177037 \n",
      " Clustered Params QAOA expressivity: 0.19729613650468264\n"
     ]
    },
    {
     "name": "stderr",
     "output_type": "stream",
     "text": [
      "/Users/vishal/opt/anaconda3/envs/openqaoa_forked_env/lib/python3.8/site-packages/sklearn/metrics/cluster/_supervised.py:64: UserWarning: Clustering metrics expects discrete values but received continuous values for label, and continuous values for target\n",
      "  warnings.warn(msg, UserWarning)\n",
      "/Users/vishal/opt/anaconda3/envs/openqaoa_forked_env/lib/python3.8/site-packages/sklearn/metrics/cluster/_supervised.py:64: UserWarning: Clustering metrics expects discrete values but received continuous values for label, and continuous values for target\n",
      "  warnings.warn(msg, UserWarning)\n"
     ]
    }
   ],
   "source": [
    "clustered_expressivity=sklearn.metrics.mutual_info_score(haar_pdf,fid_clustered_binned)\n",
    "std_expressivity=sklearn.metrics.mutual_info_score(haar_pdf,fid_std_binned)\n",
    "\n",
    "# clustered_expressivity = kl_div(haar_pdf,fid_clustered_binned)\n",
    "# std_expressivity = kl_div(haar_pdf,fid_std_binned)\n",
    "\n",
    "print(f\"Standard QAOA expressivity:{std_expressivity}\",'\\n',\n",
    "      f\"Clustered Params QAOA expressivity: {clustered_expressivity}\")"
   ]
  }
 ],
 "metadata": {
  "interpreter": {
   "hash": "ffc96233305d7122dc6732a5f9b7f44477470c7d091ce18c27b788d4d214d89a"
  },
  "kernelspec": {
   "display_name": "OpenQAOA_forked_kernel",
   "language": "python",
   "name": "openqaoa_forked_env"
  },
  "language_info": {
   "codemirror_mode": {
    "name": "ipython",
    "version": 3
   },
   "file_extension": ".py",
   "mimetype": "text/x-python",
   "name": "python",
   "nbconvert_exporter": "python",
   "pygments_lexer": "ipython3",
   "version": "3.8.0"
  }
 },
 "nbformat": 4,
 "nbformat_minor": 4
}
