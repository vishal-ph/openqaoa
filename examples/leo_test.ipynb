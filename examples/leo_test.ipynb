{
 "cells": [
  {
   "cell_type": "code",
   "execution_count": 1,
   "metadata": {},
   "outputs": [],
   "source": [
    "from openqaoa.qaoa_parameters.baseparams import QAOACircuitParams, QAOAVariationalBaseParams, shapedArray, _is_iterable_empty\n",
    "import numpy as np\n",
    "import matplotlib.pyplot as plt\n",
    "from openqaoa.qaoa_parameters import PauliOp, Hamiltonian, QAOACircuitParams, create_qaoa_variational_params, QAOAVariationalStandardParams\n",
    "from openqaoa.backends.qaoa_backend import get_qaoa_backend\n",
    "from openqaoa.devices import create_device\n",
    "from openqaoa.qaoalib import dicke_wavefunction, dicke_basis\n",
    "\n",
    "from openqaoa.optimizers import get_optimizer\n",
    "from qiskit import QuantumCircuit\n",
    "from openqaoa.utilities import *\n",
    "\n",
    "from openqaoa.workflows.optimizer import QAOA\n",
    "from openqaoa.problems.problem import NumberPartitionm\n",
    "import numpy as np"
   ]
  },
  {
   "cell_type": "markdown",
   "metadata": {},
   "source": [
    "Create the hamiltonians"
   ]
  },
  {
   "cell_type": "code",
   "execution_count": 2,
   "metadata": {},
   "outputs": [
    {
     "name": "stdout",
     "output_type": "stream",
     "text": [
      "[85, 96, 80, 96, 96, 97, 90, 80, 81]\n"
     ]
    }
   ],
   "source": [
    "nums=list(np.random.randint(80,100,9))\n",
    "print(nums)\n",
    "# nums = [11,139,117,40,87,199,5,3,133]\n",
    "cost_prob = NumberPartition(nums).get_qubo_problem()\n",
    "cost_hamil = cost_prob.hamiltonian\n",
    "n_qubits = cost_hamil.n_qubits\n",
    "\n",
    "mixer_hamil_xy = XY_mixer_hamiltonian(n_qubits=cost_prob.asdict()['n'],qubit_connectivity='full')\n",
    "mixer_hamil_x = X_mixer_hamiltonian(n_qubits=cost_prob.asdict()['n'])\n",
    "\n",
    "p=4\n",
    "circuit_params = QAOACircuitParams(cost_hamil, mixer_hamil_x, p=4)"
   ]
  },
  {
   "cell_type": "code",
   "execution_count": 3,
   "metadata": {},
   "outputs": [],
   "source": [
    "cost_hamiltonian = circuit_params.cost_hamiltonian\n",
    "coeffs = cost_hamiltonian.coeffs\n",
    "terms = cost_hamiltonian.terms\n",
    "sorted_terms,sorted_coeffs = zip(*sorted(zip(terms,coeffs), key = lambda pair: pair[1]))\n",
    "sorted_terms = list(sorted_terms)\n",
    "sorted_coeffs = list(sorted_coeffs)"
   ]
  },
  {
   "cell_type": "markdown",
   "metadata": {},
   "source": [
    "### kmeans"
   ]
  },
  {
   "cell_type": "code",
   "execution_count": 4,
   "metadata": {},
   "outputs": [],
   "source": [
    "from sklearn.cluster import KMeans"
   ]
  },
  {
   "cell_type": "code",
   "execution_count": 5,
   "metadata": {},
   "outputs": [],
   "source": [
    "# Kmeans requires the coefficents to be reshaped\n",
    "X = np.array(coeffs).reshape(-1, 1)"
   ]
  },
  {
   "cell_type": "code",
   "execution_count": 10,
   "metadata": {},
   "outputs": [
    {
     "data": {
      "text/plain": [
       "36"
      ]
     },
     "execution_count": 10,
     "metadata": {},
     "output_type": "execute_result"
    }
   ],
   "source": [
    "len(coeffs)"
   ]
  },
  {
   "cell_type": "code",
   "execution_count": 20,
   "metadata": {},
   "outputs": [
    {
     "data": {
      "text/plain": [
       "[<matplotlib.lines.Line2D at 0x7fc90640c760>]"
      ]
     },
     "execution_count": 20,
     "metadata": {},
     "output_type": "execute_result"
    },
    {
     "data": {
      "image/png": "[encoded data removed]",
      "text/plain": [
       "<Figure size 432x288 with 1 Axes>"
      ]
     },
     "metadata": {
      "needs_background": "light"
     },
     "output_type": "display_data"
    }
   ],
   "source": [
    "# Here you run kmeans for many as many clusters\n",
    "wcss = [] \n",
    "for i in range(1, int(len(coeffs)/2)): \n",
    "    kmeans = KMeans(n_clusters = i, init = 'k-means++')\n",
    "    kmeans.fit(X) \n",
    "    wcss.append(kmeans.inertia_)\n",
    "plt.plot(range(1, int(len(coeffs)/2)) , wcss)"
   ]
  },
  {
   "cell_type": "markdown",
   "metadata": {},
   "source": [
    "given the above plot the natural number of clusters is around 3 or 4"
   ]
  },
  {
   "cell_type": "code",
   "execution_count": 32,
   "metadata": {},
   "outputs": [],
   "source": [
    "kmeans = KMeans(n_clusters=4).fit(X)"
   ]
  },
  {
   "cell_type": "code",
   "execution_count": 33,
   "metadata": {},
   "outputs": [
    {
     "data": {
      "text/plain": [
       "array([[13281.66666667],\n",
       "       [18528.        ],\n",
       "       [16843.75      ],\n",
       "       [15265.625     ]])"
      ]
     },
     "execution_count": 33,
     "metadata": {},
     "output_type": "execute_result"
    }
   ],
   "source": [
    "kmeans.cluster_centers_"
   ]
  },
  {
   "cell_type": "markdown",
   "metadata": {},
   "source": [
    "I am unsure what's the best way to visualise them. Since they are one dimetional I am just plotting them on the diagonal!\n",
    "\n",
    "The kmeans centers are plotted in red"
   ]
  },
  {
   "cell_type": "code",
   "execution_count": 97,
   "metadata": {},
   "outputs": [
    {
     "data": {
      "image/png": "[encoded data removed]",
      "text/plain": [
       "<Figure size 720x576 with 1 Axes>"
      ]
     },
     "metadata": {
      "needs_background": "light"
     },
     "output_type": "display_data"
    }
   ],
   "source": [
    "plt.figure(figsize=(10,8))\n",
    "\n",
    "# Creating the data\n",
    "x1 = np.array(coeffs)\n",
    "x2 = np.array(coeffs)\n",
    "kmeans_centers = [np.mean(X.flatten()[kmeans.labels_==i]) for i in range(4)]\n",
    "plt.scatter(kmeans_centers, kmeans_centers, s=100, c = 'red', label = 'centroids')\n",
    "plt.scatter(X.flatten()[kmeans.labels_==0], X.flatten()[kmeans.labels_==0], s=30, c = 'blue', label = 'label 0')\n",
    "plt.scatter(X.flatten()[kmeans.labels_==1], X.flatten()[kmeans.labels_==1], s=30, c = 'magenta', label = 'label 1')\n",
    "plt.scatter(X.flatten()[kmeans.labels_==2], X.flatten()[kmeans.labels_==2], s=30, c = 'green', label = 'label 1')\n",
    "plt.scatter(X.flatten()[kmeans.labels_==3], X.flatten()[kmeans.labels_==3], s=30, c = 'black', label = 'label 1')\n",
    "\n",
    "# Visualizing the data\n",
    "plt.legend()\n",
    "plt.title('Coeffs vs Coeffs')\n",
    "# plt.scatter(x1, x2)\n",
    "plt.show()"
   ]
  },
  {
   "cell_type": "code",
   "execution_count": 99,
   "metadata": {},
   "outputs": [],
   "source": [
    "clusters = {}\n",
    "for l in range(len(set(kmeans.labels_))):\n",
    "    clusters[l] = {'coeffs': sorted(X.flatten()[kmeans.labels_==l]),\n",
    "                   'terms': np.array(terms)[kmeans.labels_==l],\n",
    "                    'hc' : Hamiltonian(np.array(terms)[kmeans.labels_==l],X.flatten()[kmeans.labels_==l],0,remap_logical_qubits=False)}"
   ]
  },
  {
   "cell_type": "markdown",
   "metadata": {},
   "source": [
    "### Test the parameter creation through OQ"
   ]
  },
  {
   "cell_type": "code",
   "execution_count": 106,
   "metadata": {},
   "outputs": [
    {
     "name": "stdout",
     "output_type": "stream",
     "text": [
      "Using the sharma parametrisation\n"
     ]
    }
   ],
   "source": [
    "from openqaoa.qaoa_parameters.clusteredparams import hamiltonian_clustering\n",
    "hc = hamiltonian_clustering(circuit_params, 2, n_clusters=0)"
   ]
  },
  {
   "cell_type": "code",
   "execution_count": 107,
   "metadata": {},
   "outputs": [
    {
     "data": {
      "text/plain": [
       "12"
      ]
     },
     "execution_count": 107,
     "metadata": {},
     "output_type": "execute_result"
    }
   ],
   "source": [
    "len(hc)"
   ]
  },
  {
   "cell_type": "code",
   "execution_count": 108,
   "metadata": {},
   "outputs": [],
   "source": [
    "a = 1"
   ]
  },
  {
   "cell_type": "code",
   "execution_count": 109,
   "metadata": {},
   "outputs": [
    {
     "name": "stdout",
     "output_type": "stream",
     "text": [
      "[12800.0, 12960.0]\n",
      "[12960.0, 13600.0]\n",
      "[13600.0, 13770.0]\n",
      "[14400.0, 14400.0, 14580.0]\n",
      "[15300.0, 15360.0]\n",
      "[15360.0, 15360.0, 15360.0, 15360.0, 15360.0, 15520.0]\n",
      "[15520.0, 15552.0]\n",
      "[15552.0, 15552.0, 15714.0]\n",
      "[16320.0, 16320.0, 16320.0, 16490.0]\n",
      "[17280.0, 17280.0, 17280.0, 17460.0]\n",
      "[18432.0, 18432.0, 18432.0, 18624.0]\n",
      "[18624.0, 18624.0]\n"
     ]
    }
   ],
   "source": [
    "for i in range(len(hc)):\n",
    "    print(hc[i].coeffs)"
   ]
  },
  {
   "cell_type": "code",
   "execution_count": null,
   "metadata": {},
   "outputs": [],
   "source": [
    "for i in clusters.keys():\n",
    "    print(clusters[i]['coeffs'])"
   ]
  },
  {
   "cell_type": "code",
   "execution_count": null,
   "metadata": {},
   "outputs": [],
   "source": [
    "plt.scatter(X.flatten()[kmeans.labels_==0], range(len(X.flatten()[kmeans.labels_==0])), s=10, c = 'red', label = 'Cluster1')\n",
    "plt.scatter(X.flatten()[kmeans.labels_==1], range(len(X.flatten()[kmeans.labels_==1])),  s=10, c = 'magenta', label = 'Cluster2')\n",
    "plt.scatter(X.flatten()[kmeans.labels_==2], range(len(X.flatten()[kmeans.labels_==2])),  s=10, c = 'blue', label = 'Cluster3')\n",
    "plt.scatter(X.flatten()[kmeans.labels_==3], range(len(X.flatten()[kmeans.labels_==3])),  s=10, c = 'green', label = 'Cluster4')\n",
    "plt.scatter(kmeans.cluster_centers_, [np.mean(range(len(X.flatten()[kmeans.labels_==i]))) for i in range(4)], s=50, c = 'black', label = 'centroids')\n",
    "plt.legend() \n",
    "\n",
    "plt.show()"
   ]
  },
  {
   "cell_type": "code",
   "execution_count": null,
   "metadata": {},
   "outputs": [],
   "source": [
    "def hamiltonian_clustering(qaoa_circuit_params: QAOACircuitParams,\n",
    "                           n_clusters: int):\n",
    "\n",
    "    cost_hamiltonian = qaoa_circuit_params.cost_hamiltonian\n",
    "    coeffs = cost_hamiltonian.coeffs\n",
    "    terms = cost_hamiltonian.terms\n",
    "    sorted_terms,sorted_coeffs = zip(*sorted(zip(terms,coeffs), key = lambda pair: pair[1]))\n",
    "\n",
    "    \n",
    "    X = np.array(sorted(np.array(sorted_coeffs).reshape(-1, 1)))\n",
    "    kmeans = KMeans(n_clusters=n_clusters).fit(X)\n",
    "        \n",
    "    clusters = []\n",
    "    for l in range(len(set(kmeans.labels_))):\n",
    "        print(l)\n",
    "        clusters.append(Hamiltonian(np.array(sorted_terms)[kmeans.labels_==l],X[kmeans.labels_==l],0,remap_logical_qubits=False))\n",
    "    \n",
    "    return clusters"
   ]
  },
  {
   "cell_type": "code",
   "execution_count": null,
   "metadata": {},
   "outputs": [],
   "source": [
    "hc = hamiltonian_clustering(circuit_params, 4)"
   ]
  },
  {
   "cell_type": "code",
   "execution_count": null,
   "metadata": {},
   "outputs": [],
   "source": [
    "hc"
   ]
  }
 ],
 "metadata": {
  "kernelspec": {
   "display_name": "OpenQAOA_forked_kernel",
   "language": "python",
   "name": "openqaoa_forked_env"
  },
  "language_info": {
   "codemirror_mode": {
    "name": "ipython",
    "version": 3
   },
   "file_extension": ".py",
   "mimetype": "text/x-python",
   "name": "python",
   "nbconvert_exporter": "python",
   "pygments_lexer": "ipython3",
   "version": "3.8.0"
  }
 },
 "nbformat": 4,
 "nbformat_minor": 4
}
