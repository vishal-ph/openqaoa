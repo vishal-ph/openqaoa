{
 "cells": [
  {
   "cell_type": "code",
   "execution_count": 1,
   "metadata": {
    "execution": {
     "iopub.execute_input": "2022-06-15T08:39:00.423220Z",
     "iopub.status.busy": "2022-06-15T08:39:00.422920Z",
     "iopub.status.idle": "2022-06-15T08:39:03.451873Z",
     "shell.execute_reply": "2022-06-15T08:39:03.451042Z",
     "shell.execute_reply.started": "2022-06-15T08:39:00.423135Z"
    }
   },
   "outputs": [
    {
     "ename": "ModuleNotFoundError",
     "evalue": "No module named 'openqaoa.backends.simulators.qaoa_me_sim'",
     "output_type": "error",
     "traceback": [
      "\u001b[0;31m---------------------------------------------------------------------------\u001b[0m",
      "\u001b[0;31mModuleNotFoundError\u001b[0m                       Traceback (most recent call last)",
      "Input \u001b[0;32mIn [1]\u001b[0m, in \u001b[0;36m<cell line: 1>\u001b[0;34m()\u001b[0m\n\u001b[0;32m----> 1\u001b[0m \u001b[38;5;28;01mfrom\u001b[39;00m \u001b[38;5;21;01mopenqaoa\u001b[39;00m\u001b[38;5;21;01m.\u001b[39;00m\u001b[38;5;21;01mbackends\u001b[39;00m\u001b[38;5;21;01m.\u001b[39;00m\u001b[38;5;21;01msimulators\u001b[39;00m\u001b[38;5;21;01m.\u001b[39;00m\u001b[38;5;21;01mqaoa_me_sim\u001b[39;00m \u001b[38;5;28;01mimport\u001b[39;00m QAOAMEBackendSimulator\n\u001b[1;32m      2\u001b[0m \u001b[38;5;28;01mfrom\u001b[39;00m \u001b[38;5;21;01mopenqaoa\u001b[39;00m\u001b[38;5;21;01m.\u001b[39;00m\u001b[38;5;21;01mbackends\u001b[39;00m\u001b[38;5;21;01m.\u001b[39;00m\u001b[38;5;21;01msimulators\u001b[39;00m\u001b[38;5;21;01m.\u001b[39;00m\u001b[38;5;21;01mqaoa_mc_sim\u001b[39;00m \u001b[38;5;28;01mimport\u001b[39;00m QAOAMCBackendSimulator\n\u001b[1;32m      3\u001b[0m \u001b[38;5;28;01mfrom\u001b[39;00m \u001b[38;5;21;01mopenqaoa\u001b[39;00m\u001b[38;5;21;01m.\u001b[39;00m\u001b[38;5;21;01mbackends\u001b[39;00m\u001b[38;5;21;01m.\u001b[39;00m\u001b[38;5;21;01msimulators\u001b[39;00m\u001b[38;5;21;01m.\u001b[39;00m\u001b[38;5;21;01mqaoa_qiskit_sim\u001b[39;00m \u001b[38;5;28;01mimport\u001b[39;00m QAOAQiskitBackendShotBasedSimulator\n",
      "\u001b[0;31mModuleNotFoundError\u001b[0m: No module named 'openqaoa.backends.simulators.qaoa_me_sim'"
     ]
    }
   ],
   "source": [
    "from openqaoa.backends.simulators.qaoa_me_sim import QAOAMEBackendSimulator\n",
    "from openqaoa.backends.simulators.qaoa_mc_sim import QAOAMCBackendSimulator\n",
    "from openqaoa.backends.simulators.qaoa_qiskit_sim import QAOAQiskitBackendShotBasedSimulator\n",
    "from openqaoa.qaoa_parameters import PauliOp, Hamiltonian, QAOACircuitParams, create_qaoa_variational_params, QAOAVariationalStandardParams\n",
    "from openqaoa.qaoa_parameters import QAOAVariationalBaseParams\n",
    "from openqaoa.devices import DeviceQiskit, create_device\n",
    "from openqaoa.backends.qaoa_backend import *\n",
    "from openqaoa.optimizers import get_optimizer\n",
    "from qiskit import QuantumCircuit\n",
    "from openqaoa.utilities import *\n",
    "from openqaoa.workflows.optimizer import RQAOA, QAOA\n",
    "from openqaoa.problems.problem import MinimumVertexCover, PUBO, Encoding\n",
    "from openqaoa.utilities import ground_state_hamiltonian\n",
    "from openqaoa.qaoa_parameters import Hamiltonian"
   ]
  },
  {
   "cell_type": "code",
   "execution_count": null,
   "metadata": {},
   "outputs": [],
   "source": [
    "classical_terms = [(0, 1),(1, 2),(2, 3), (3, 0)]\n",
    "coeffs = [1, 1, 1, 1]\n",
    "constant = 0\n",
    "cost_hamil = Hamiltonian.classical_hamiltonian(terms=classical_terms,coeffs=coeffs,constant=constant)\n",
    "mixer_hamil = X_mixer_hamiltonian(n_qubits=4)\n",
    "circuit_params = QAOACircuitParams(cost_hamil, mixer_hamil, p=1)\n",
    "variate_params = create_qaoa_variational_params(circuit_params,'standard','rand')\n",
    "\n",
    "T1=5e-5 #relaxation time constant in s\n",
    "T2=2*T1 #dephasing time constant in s\n",
    "\n",
    "t_gate_list = list([20e-9, 200e-9]) #1-qubit and 2-qubit gate time in s\n",
    "gate_error_list = list([12e-4, 3e-2]) #1-qubit and 2-qubit gate error probability\n",
    "spam_error_prob = 5e-2 #combined SPAM error\n",
    "meas1_prep0_prob = 1e-2 #classical readout error\n",
    "meas0_prep1_prob = 4e-2 #classical readout error\n",
    "overrot_st_dev = 2\n",
    "t_readout = 5800e-9\n",
    "\n",
    "me_sim = create_device('local','mesolver')\n",
    "me_backend = get_qaoa_backend(circuit_params=circuit_params, device=me_sim, n_shots=10, noise_model={'decay': False, 'dephasing': False, 'overrot': False, 'spam': False, 'readout01': False, 'readout10': False, 'depol1': False, 'depol2': False}, times=t_gate_list + [t_readout], allowed_jump_qubits=None)\n",
    "\n",
    "mc_sim = create_device('local','mcsolver')\n",
    "mc_backend = get_qaoa_backend(circuit_params=circuit_params, device=mc_sim, n_shots=1, noise_model={'decay': 5e-5, 'dephasing': False, 'overrot': False, 'spam': False, 'readout01': False, 'readout10': False, 'depol1': False, 'depol2': False}, times=t_gate_list + [t_readout], allowed_jump_qubits=None)"
   ]
  },
  {
   "cell_type": "code",
   "execution_count": null,
   "metadata": {},
   "outputs": [],
   "source": [
    "grid_number = 100\n",
    "grid_list = list(np.linspace(start=0, stop=2*np.pi, num=grid_number, endpoint=False))\n",
    "expected_cost = [[0 for x in range(grid_number)]]\n",
    "\n",
    "gamma = np.pi/8\n",
    "\n",
    "results_me = list()\n",
    "results_mc = list()\n",
    "for b,beta in enumerate(grid_list):\n",
    "    variate_params = QAOAVariationalStandardParams(circuit_params, betas=[beta], gammas=[gamma])\n",
    "    results_me.append(me_backend.expectation(variate_params))\n",
    "    results_mc.append(mc_backend.expectation(variate_params))\n",
    "    \n",
    "integer_grid_list = [int(x*grid_number/(2*np.pi)) for x in grid_list]\n",
    "plt.plot(integer_grid_list, results_me)\n",
    "plt.plot(integer_grid_list, results_mc)\n",
    "plt.show()\n",
    "\n"
   ]
  },
  {
   "cell_type": "code",
   "execution_count": null,
   "metadata": {},
   "outputs": [],
   "source": [
    "variate_params = create_qaoa_variational_params(circuit_params,'standard','rand')\n",
    "print(me_backend.get_results(variate_params))\n",
    "print(me_backend.get_counts(variate_params))\n",
    "print(me_backend.expectation(variate_params))\n",
    "print(me_backend.probability_dict(variate_params))\n",
    "\n",
    "print(mc_backend.get_results(variate_params))\n",
    "print(mc_backend.get_counts(variate_params))\n",
    "print(mc_backend.expectation(variate_params))\n",
    "print(mc_backend.probability_dict(variate_params))"
   ]
  }
 ],
 "metadata": {
  "kernelspec": {
   "display_name": "OpenQAOA Kernel",
   "language": "python",
   "name": "openqaoa_kernel"
  },
  "language_info": {
   "codemirror_mode": {
    "name": "ipython",
    "version": 3
   },
   "file_extension": ".py",
   "mimetype": "text/x-python",
   "name": "python",
   "nbconvert_exporter": "python",
   "pygments_lexer": "ipython3",
   "version": "3.8.0"
  }
 },
 "nbformat": 4,
 "nbformat_minor": 4
}
